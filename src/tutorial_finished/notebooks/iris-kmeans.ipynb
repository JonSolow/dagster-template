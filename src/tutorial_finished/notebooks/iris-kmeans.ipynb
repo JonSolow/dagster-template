{
 "cells": [
  {
   "cell_type": "code",
   "execution_count": null,
   "id": "edec6ecf",
   "metadata": {
    "noteable": {}
   },
   "outputs": [],
   "source": [
    "import matplotlib.pyplot as plt\n",
    "import pandas as pd\n",
    "import seaborn as sns"
   ]
  },
  {
   "cell_type": "code",
   "execution_count": null,
   "id": "9c597f3d",
   "metadata": {
    "tags": [
     "parameters"
    ]
   },
   "outputs": [],
   "source": [
    "# this cell has been tagged with \"parameters\"\n",
    "\n",
    "# Having the iris fetching code in the parameters cell allows dagster to overwrite this cell and replace\n",
    "# it with the contents of the upstream iris_dataset asset. If you want to run the notebook locally, this\n",
    "# cell will remain, which allows you to fetch the dataset directly.\n",
    "\n",
    "iris = pd.read_csv(\n",
    "    \"https://archive.ics.uci.edu/ml/machine-learning-databases/iris/iris.data\",\n",
    "    names=[\n",
    "        \"Sepal length (cm)\",\n",
    "        \"Sepal width (cm)\",\n",
    "        \"Petal length (cm)\",\n",
    "        \"Petal width (cm)\",\n",
    "        \"Species\",\n",
    "    ],\n",
    ")"
   ]
  },
  {
   "cell_type": "code",
   "execution_count": null,
   "id": "be86a263",
   "metadata": {},
   "outputs": [],
   "source": [
    "# Descriptive analysis"
   ]
  },
  {
   "cell_type": "code",
   "execution_count": null,
   "id": "2e77ee60",
   "metadata": {
    "noteable": {}
   },
   "outputs": [],
   "source": [
    "iris.head()"
   ]
  },
  {
   "cell_type": "code",
   "execution_count": null,
   "id": "98047991",
   "metadata": {
    "noteable": {}
   },
   "outputs": [],
   "source": [
    "iris[\"Species\"].unique()"
   ]
  },
  {
   "cell_type": "code",
   "execution_count": null,
   "id": "5bd8b367",
   "metadata": {
    "noteable": {}
   },
   "outputs": [],
   "source": [
    "iris.describe()"
   ]
  },
  {
   "cell_type": "code",
   "execution_count": null,
   "id": "6af090e8",
   "metadata": {
    "noteable": {}
   },
   "outputs": [],
   "source": [
    "g = sns.PairGrid(iris, hue=\"Species\")\n",
    "g.map_diag(plt.hist, alpha=0.5)\n",
    "g.map_upper(plt.scatter, alpha=0.5, marker=\"x\")\n",
    "g.map_lower(sns.kdeplot, fill=True, thresh=0.05, alpha=0.3)\n",
    "g.add_legend()"
   ]
  },
  {
   "cell_type": "code",
   "execution_count": null,
   "id": "b627cfb3",
   "metadata": {
    "noteable": {}
   },
   "outputs": [],
   "source": [
    "fig, axs = plt.subplots(ncols=2, nrows=2, figsize=(12, 12))\n",
    "\n",
    "sns.boxplot(x=\"Species\", y=\"Sepal length (cm)\", data=iris, ax=axs[0, 0])\n",
    "sns.swarmplot(x=\"Species\", y=\"Sepal length (cm)\", data=iris, color=\".25\", ax=axs[0, 0])\n",
    "\n",
    "sns.boxplot(x=\"Species\", y=\"Sepal width (cm)\", data=iris, ax=axs[0, 1])\n",
    "sns.swarmplot(x=\"Species\", y=\"Sepal width (cm)\", data=iris, color=\".25\", ax=axs[0, 1])\n",
    "\n",
    "sns.boxplot(x=\"Species\", y=\"Petal length (cm)\", data=iris, ax=axs[1, 0])\n",
    "sns.swarmplot(x=\"Species\", y=\"Petal length (cm)\", data=iris, color=\".25\", ax=axs[1, 0])\n",
    "\n",
    "sns.boxplot(x=\"Species\", y=\"Petal width (cm)\", data=iris, ax=axs[1, 1])\n",
    "sns.swarmplot(x=\"Species\", y=\"Petal width (cm)\", data=iris, color=\".25\", ax=axs[1, 1])"
   ]
  },
  {
   "cell_type": "code",
   "execution_count": null,
   "id": "69550040",
   "metadata": {},
   "outputs": [],
   "source": [
    "# K-Means analysis"
   ]
  },
  {
   "cell_type": "code",
   "execution_count": null,
   "id": "e47fb373",
   "metadata": {
    "noteable": {}
   },
   "outputs": [],
   "source": [
    "import sklearn.cluster\n",
    "\n",
    "estimator = sklearn.cluster.KMeans(n_clusters=3)\n",
    "estimator.fit(\n",
    "    iris[[\"Sepal length (cm)\", \"Sepal width (cm)\", \"Petal length (cm)\", \"Petal width (cm)\"]]\n",
    ")"
   ]
  },
  {
   "cell_type": "code",
   "execution_count": null,
   "id": "86232e82",
   "metadata": {
    "noteable": {}
   },
   "outputs": [],
   "source": [
    "iris[\"K-means cluster assignment\"] = estimator.labels_"
   ]
  },
  {
   "cell_type": "code",
   "execution_count": null,
   "id": "a80c7b6b",
   "metadata": {
    "noteable": {}
   },
   "outputs": [],
   "source": [
    "fig, axs = plt.subplots(ncols=3, nrows=3, figsize=(12, 12))\n",
    "\n",
    "sns.scatterplot(\n",
    "    x=\"Sepal width (cm)\",\n",
    "    y=\"Sepal length (cm)\",\n",
    "    data=iris,\n",
    "    ax=axs[0, 0],\n",
    "    hue=\"Species\",\n",
    "    style=\"K-means cluster assignment\",\n",
    "    legend=False,\n",
    "    marker=\"x\",\n",
    "    alpha=0.5,\n",
    ")\n",
    "sns.scatterplot(\n",
    "    x=\"Petal length (cm)\",\n",
    "    y=\"Sepal length (cm)\",\n",
    "    data=iris,\n",
    "    ax=axs[0, 1],\n",
    "    hue=\"Species\",\n",
    "    style=\"K-means cluster assignment\",\n",
    "    legend=False,\n",
    "    marker=\"x\",\n",
    "    alpha=0.5,\n",
    ")\n",
    "sns.scatterplot(\n",
    "    x=\"Petal width (cm)\",\n",
    "    y=\"Sepal length (cm)\",\n",
    "    data=iris,\n",
    "    ax=axs[0, 2],\n",
    "    hue=\"Species\",\n",
    "    style=\"K-means cluster assignment\",\n",
    "    legend=False,\n",
    "    marker=\"x\",\n",
    "    alpha=0.5,\n",
    ")\n",
    "\n",
    "sns.scatterplot(\n",
    "    x=\"Petal length (cm)\",\n",
    "    y=\"Sepal width (cm)\",\n",
    "    data=iris,\n",
    "    ax=axs[1, 1],\n",
    "    hue=\"Species\",\n",
    "    style=\"K-means cluster assignment\",\n",
    "    legend=False,\n",
    "    marker=\"x\",\n",
    "    alpha=0.5,\n",
    ")\n",
    "sns.scatterplot(\n",
    "    x=\"Petal width (cm)\",\n",
    "    y=\"Sepal width (cm)\",\n",
    "    data=iris,\n",
    "    ax=axs[1, 2],\n",
    "    hue=\"Species\",\n",
    "    style=\"K-means cluster assignment\",\n",
    "    legend=False,\n",
    "    marker=\"x\",\n",
    "    alpha=0.5,\n",
    ")\n",
    "\n",
    "p = sns.scatterplot(\n",
    "    x=\"Petal width (cm)\",\n",
    "    y=\"Petal length (cm)\",\n",
    "    data=iris,\n",
    "    ax=axs[2, 2],\n",
    "    hue=\"Species\",\n",
    "    style=\"K-means cluster assignment\",\n",
    "    legend=False,\n",
    "    marker=\"x\",\n",
    "    alpha=0.5,\n",
    ")\n",
    "\n",
    "axs[1, 0].axis(\"off\")\n",
    "axs[2, 0].axis(\"off\")\n",
    "axs[2, 1].axis(\"off\")\n",
    "\n",
    "import matplotlib.patches as mpatches\n",
    "import matplotlib.lines as mlines\n",
    "\n",
    "palette = sns.color_palette()\n",
    "setosa = mpatches.Patch(color=palette[0], label=\"Iris setosa\", alpha=0.5)\n",
    "versicolor = mpatches.Patch(color=palette[1], label=\"Iris versicolor\", alpha=0.5)\n",
    "virginica = mpatches.Patch(color=palette[2], label=\"Iris virginica\", alpha=0.5)\n",
    "\n",
    "class_0 = mlines.Line2D(\n",
    "    [], [], marker=\"o\", color=\"lightgrey\", linestyle=\"None\", markersize=10, label=\"Class 0\"\n",
    ")\n",
    "class_1 = mlines.Line2D(\n",
    "    [], [], marker=\"X\", color=\"lightgrey\", linestyle=\"None\", markersize=10, label=\"Class 1\"\n",
    ")\n",
    "class_2 = mlines.Line2D(\n",
    "    [], [], marker=\"s\", color=\"lightgrey\", linestyle=\"None\", markersize=10, label=\"Class 2\"\n",
    ")\n",
    "\n",
    "axs[2, 0].legend(handles=[setosa, versicolor, virginica, class_0, class_1, class_2])"
   ]
  }
 ],
 "metadata": {
  "celltoolbar": "Tags",
  "kernelspec": {
   "display_name": "Python 3 (ipykernel)",
   "language": "python",
   "name": "python3"
  },
  "language_info": {
   "codemirror_mode": {
    "name": "ipython",
    "version": 3
   },
   "file_extension": ".py",
   "mimetype": "text/x-python",
   "name": "python",
   "nbconvert_exporter": "python",
   "pygments_lexer": "ipython3",
   "version": "3.9.10"
  },
  "noteable": {
   "last_delta_id": "00000000-0000-0000-0000-000000000000",
   "last_transaction_id": "35ab1517-a0d0-490d-8033-2b9e0acd86bd"
  },
  "nteract": {
   "version": "noteable@2.9.0"
  },
  "vscode": {
   "interpreter": {
    "hash": "e5fba353c56c7ba0bcc92cb4e3a58f4a2d45616f71cf3092e3e47a9c9267b682"
   }
  }
 },
 "nbformat": 4,
 "nbformat_minor": 5
}
